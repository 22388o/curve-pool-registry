{
 "cells": [
  {
   "cell_type": "markdown",
   "metadata": {},
   "source": [
    "# Demonstration of using Curve registry\n",
    "\n",
    "### Essential links:\n",
    "* Source code: <https://github.com/curvefi/curve-pool-registry/tree/b17>;\n",
    "* ABI: <https://github.com/curvefi/curve-pool-registry/blob/b17/deployed/2020-06-20/registry.abi>;\n",
    "* Registry contract: `0x7002B727Ef8F5571Cb5F9D70D13DBEEb4dFAe9d1`.\n",
    "\n",
    "### Complimentary information for tests:\n",
    "* Y pool: `0x45F783CCE6B7FF23B2ab2D70e416cdb7D6055f51` (underlying coins: DAI/USDC/USDT/TUSD, compounding coins: yDAI/yUSDC/yUSDT/yTUSD);\n",
    "* DAI: `0x6B175474E89094C44Da98b954EedeAC495271d0F`;\n",
    "* USDT: `0xdAC17F958D2ee523a2206206994597C13D831ec7`;"
   ]
  },
  {
   "cell_type": "code",
   "execution_count": 1,
   "metadata": {},
   "outputs": [],
   "source": [
    "# Init Brownie environment\n",
    "# <https://eth-brownie.readthedocs.io/en/stable/python-package.html#accessing-the-network>\n",
    "from brownie import network, Contract\n",
    "network.connect('mainnet')"
   ]
  },
  {
   "cell_type": "code",
   "execution_count": 2,
   "metadata": {},
   "outputs": [],
   "source": [
    "import json\n",
    "with open('registry.abi', 'r') as f:\n",
    "    abi = json.load(f)\n",
    "registry = Contract.from_abi('CurveRegistry', '0x7002B727Ef8F5571Cb5F9D70D13DBEEb4dFAe9d1', abi)"
   ]
  },
  {
   "cell_type": "markdown",
   "metadata": {},
   "source": [
    "### Finding a pool by coins\n",
    "Pools can be found for a given pair (from -> to)"
   ]
  },
  {
   "cell_type": "code",
   "execution_count": 3,
   "metadata": {},
   "outputs": [
    {
     "data": {
      "text/plain": [
       "'0x52EA46506B9CC5Ef470C5bf89f17Dc28bB35D85C'"
      ]
     },
     "execution_count": 3,
     "metadata": {},
     "output_type": "execute_result"
    }
   ],
   "source": [
    "registry.find_pool_for_coins(\"0xdAC17F958D2ee523a2206206994597C13D831ec7\",\n",
    "                             \"0x6B175474E89094C44Da98b954EedeAC495271d0F\", 0)"
   ]
  },
  {
   "cell_type": "code",
   "execution_count": 4,
   "metadata": {},
   "outputs": [
    {
     "data": {
      "text/plain": [
       "'0x45F783CCE6B7FF23B2ab2D70e416cdb7D6055f51'"
      ]
     },
     "execution_count": 4,
     "metadata": {},
     "output_type": "execute_result"
    }
   ],
   "source": [
    "registry.find_pool_for_coins(\"0xdAC17F958D2ee523a2206206994597C13D831ec7\",\n",
    "                             \"0x6B175474E89094C44Da98b954EedeAC495271d0F\", 1)"
   ]
  },
  {
   "cell_type": "code",
   "execution_count": 5,
   "metadata": {},
   "outputs": [
    {
     "data": {
      "text/plain": [
       "'0x0000000000000000000000000000000000000000'"
      ]
     },
     "execution_count": 5,
     "metadata": {},
     "output_type": "execute_result"
    }
   ],
   "source": [
    "registry.find_pool_for_coins(\"0xdAC17F958D2ee523a2206206994597C13D831ec7\",\n",
    "                             \"0x6B175474E89094C44Da98b954EedeAC495271d0F\", 10)  # ... eventually we hit 0x0000"
   ]
  },
  {
   "cell_type": "markdown",
   "metadata": {},
   "source": [
    "### Getting pool's coins\n",
    "Information is given in format:\n",
    "```python\n",
    "[\n",
    "    (compounding_coin, compounding_coin, ...),\n",
    "    (underlying_coin, underlying_coin, ...),\n",
    "    (compounding_coin_decimals, compounding_coin_decimals, ...),\n",
    "    (underlying_coin_decimals, underlying_coin_decimals, ...)\n",
    "]\n",
    "```"
   ]
  },
  {
   "cell_type": "code",
   "execution_count": 6,
   "metadata": {},
   "outputs": [
    {
     "data": {
      "text/plain": [
       "(('0x16de59092dAE5CcF4A1E6439D611fd0653f0Bd01',\n",
       "  '0xd6aD7a6750A7593E092a9B218d66C0A814a3436e',\n",
       "  '0x83f798e925BcD4017Eb265844FDDAbb448f1707D',\n",
       "  '0x73a052500105205d34Daf004eAb301916DA8190f',\n",
       "  '0x0000000000000000000000000000000000000000',\n",
       "  '0x0000000000000000000000000000000000000000',\n",
       "  '0x0000000000000000000000000000000000000000',\n",
       "  '0x0000000000000000000000000000000000000000'),\n",
       " ('0x6B175474E89094C44Da98b954EedeAC495271d0F',\n",
       "  '0xA0b86991c6218b36c1d19D4a2e9Eb0cE3606eB48',\n",
       "  '0xdAC17F958D2ee523a2206206994597C13D831ec7',\n",
       "  '0x0000000000085d4780B73119b644AE5ecd22b376',\n",
       "  '0x0000000000000000000000000000000000000000',\n",
       "  '0x0000000000000000000000000000000000000000',\n",
       "  '0x0000000000000000000000000000000000000000',\n",
       "  '0x0000000000000000000000000000000000000000'),\n",
       " (18, 6, 6, 18, 0, 0, 0, 0),\n",
       " (18, 6, 6, 18, 0, 0, 0, 0))"
      ]
     },
     "execution_count": 6,
     "metadata": {},
     "output_type": "execute_result"
    }
   ],
   "source": [
    "registry.get_pool_coins('0x45F783CCE6B7FF23B2ab2D70e416cdb7D6055f51')"
   ]
  },
  {
   "cell_type": "markdown",
   "metadata": {},
   "source": [
    "### Pool info\n",
    "Format:\n",
    "```python\n",
    "[\n",
    "    (balance_0, balance_1, ...),\n",
    "    (underlying_0, underlying_1, ...),\n",
    "    (*precisions_for_compounding_coins ...),\n",
    "    (*precisions_for_underlying_coins ...),\n",
    "    pool_token_address,\n",
    "    amplification,\n",
    "    fee multiplied by 1e10\n",
    "]\n",
    "```"
   ]
  },
  {
   "cell_type": "code",
   "execution_count": 8,
   "metadata": {},
   "outputs": [
    {
     "data": {
      "text/plain": [
       "((469392802249827477767361,\n",
       "  2309822460525,\n",
       "  6407926209046,\n",
       "  1440922583819273636840363,\n",
       "  0,\n",
       "  0,\n",
       "  0,\n",
       "  0),\n",
       " (477754514237630539249784,\n",
       "  2669612748083,\n",
       "  6564872766170,\n",
       "  1461194627546448822416580,\n",
       "  0,\n",
       "  0,\n",
       "  0,\n",
       "  0),\n",
       " (18, 6, 6, 18, 0, 0, 0, 0),\n",
       " (18, 6, 6, 18, 0, 0, 0, 0),\n",
       " '0xdF5e0e81Dff6FAF3A7e52BA697820c5e32D806A8',\n",
       " 2000,\n",
       " 4000000)"
      ]
     },
     "execution_count": 8,
     "metadata": {},
     "output_type": "execute_result"
    }
   ],
   "source": [
    "registry.get_pool_info('0x45F783CCE6B7FF23B2ab2D70e416cdb7D6055f51')"
   ]
  },
  {
   "cell_type": "markdown",
   "metadata": {},
   "source": [
    "With these rates, underlying_balance = balance * rate / 1e18"
   ]
  },
  {
   "cell_type": "code",
   "execution_count": 9,
   "metadata": {},
   "outputs": [
    {
     "data": {
      "text/plain": [
       "(1017813890514990603,\n",
       " 1155765342881459687,\n",
       " 1024492566238266075,\n",
       " 1014068794503478882,\n",
       " 0,\n",
       " 0,\n",
       " 0,\n",
       " 0)"
      ]
     },
     "execution_count": 9,
     "metadata": {},
     "output_type": "execute_result"
    }
   ],
   "source": [
    "registry.get_pool_rates('0x45F783CCE6B7FF23B2ab2D70e416cdb7D6055f51')"
   ]
  },
  {
   "cell_type": "markdown",
   "metadata": {},
   "source": [
    "### Estimate the most probable gas spent for exchanging two coins"
   ]
  },
  {
   "cell_type": "code",
   "execution_count": 10,
   "metadata": {},
   "outputs": [
    {
     "data": {
      "text/plain": [
       "799000"
      ]
     },
     "execution_count": 10,
     "metadata": {},
     "output_type": "execute_result"
    }
   ],
   "source": [
    "registry.estimate_gas_used('0x45F783CCE6B7FF23B2ab2D70e416cdb7D6055f51',\n",
    "                           '0xdAC17F958D2ee523a2206206994597C13D831ec7',\n",
    "                           '0x6B175474E89094C44Da98b954EedeAC495271d0F')"
   ]
  },
  {
   "cell_type": "markdown",
   "metadata": {},
   "source": [
    "### Calculate exchange amount(s)\n",
    "We're swapping USDC (6 digits) to DAI (18 digits)"
   ]
  },
  {
   "cell_type": "code",
   "execution_count": 11,
   "metadata": {},
   "outputs": [
    {
     "data": {
      "text/plain": [
       "0.9863416300748085"
      ]
     },
     "execution_count": 11,
     "metadata": {},
     "output_type": "execute_result"
    }
   ],
   "source": [
    "dai_amount = registry.get_exchange_amount(\n",
    "                             '0x45F783CCE6B7FF23B2ab2D70e416cdb7D6055f51',\n",
    "                             '0xdAC17F958D2ee523a2206206994597C13D831ec7',\n",
    "                             '0x6B175474E89094C44Da98b954EedeAC495271d0F',\n",
    "                             10 ** 6)  # Dump 1 USDC\n",
    "dai_amount / 1e18  # DAI has 18 digits"
   ]
  },
  {
   "cell_type": "markdown",
   "metadata": {},
   "source": [
    "How much USDC do we need to get 1 DAI?"
   ]
  },
  {
   "cell_type": "code",
   "execution_count": 12,
   "metadata": {},
   "outputs": [
    {
     "data": {
      "text/plain": [
       "1.013847"
      ]
     },
     "execution_count": 12,
     "metadata": {},
     "output_type": "execute_result"
    }
   ],
   "source": [
    "usdc_amount = registry.get_input_amount(\n",
    "                             '0x45F783CCE6B7FF23B2ab2D70e416cdb7D6055f51',\n",
    "                             '0xdAC17F958D2ee523a2206206994597C13D831ec7',\n",
    "                             '0x6B175474E89094C44Da98b954EedeAC495271d0F',\n",
    "                             10 ** 18)\n",
    "usdc_amount / 1e6"
   ]
  },
  {
   "cell_type": "markdown",
   "metadata": {},
   "source": [
    "Get many exchange amounts (DAI for USDC) at once"
   ]
  },
  {
   "cell_type": "code",
   "execution_count": 16,
   "metadata": {},
   "outputs": [
    {
     "data": {
      "text/plain": [
       "[0.9909413097086051,\n",
       " 1.9818825872688577,\n",
       " 2.9728238326805827,\n",
       " 3.963765045943605,\n",
       " 4.95470622705775]"
      ]
     },
     "execution_count": 16,
     "metadata": {},
     "output_type": "execute_result"
    }
   ],
   "source": [
    "amounts = registry.get_exchange_amounts(\n",
    "                             '0x45F783CCE6B7FF23B2ab2D70e416cdb7D6055f51',\n",
    "                             '0xdAC17F958D2ee523a2206206994597C13D831ec7',\n",
    "                             '0x6B175474E89094C44Da98b954EedeAC495271d0F',\n",
    "                             [x * 10 ** 6 for x in range(1, 101)])\n",
    "[x / 1e18 for x in amounts][:5]  # Let's show only first 5 out of 100"
   ]
  },
  {
   "cell_type": "markdown",
   "metadata": {},
   "source": [
    "Registry can also do `exchange()`, - the demo will be updated with that, too"
   ]
  }
 ],
 "metadata": {
  "kernelspec": {
   "display_name": "Python 3",
   "language": "python",
   "name": "python3"
  },
  "language_info": {
   "codemirror_mode": {
    "name": "ipython",
    "version": 3
   },
   "file_extension": ".py",
   "mimetype": "text/x-python",
   "name": "python",
   "nbconvert_exporter": "python",
   "pygments_lexer": "ipython3",
   "version": "3.6.9"
  }
 },
 "nbformat": 4,
 "nbformat_minor": 4
}
